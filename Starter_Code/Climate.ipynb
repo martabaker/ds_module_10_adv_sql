{
 "cells": [
  {
   "cell_type": "code",
   "execution_count": null,
   "id": "07444735-f307-4efc-ac3e-e1f4b6d8f85d",
   "metadata": {},
   "outputs": [],
   "source": [
    "# Import Dependencies\n",
    "# Importing them all at once for ease of reference\n",
    "# Mandatory\n",
    "from sqlalchemy import create_engine, text, inspect, func\n",
    "\n",
    "# ORM imports\n",
    "import sqlalchemy\n",
    "from sqlalchemy.ext.automap import automap_base\n",
    "from sqlalchemy import Column, Integer, String, Float, Boolean\n",
    "from sqlalchemy.orm import Session\n",
    "from sqlalchemy.ext.declarative import declarative_base\n",
    "\n",
    "# Data Science and Visualization\n",
    "import pandas as pd\n",
    "import matplotlib.pyplot as plt\n",
    "import numpy as np\n",
    "import seaborn as sns\n",
    "from scipy import stats\n",
    "import datetime as dt\n",
    "\n",
    "# Create a base class for declaring class definitions to produce Table objects\n",
    "Base = declarative_base()"
   ]
  },
  {
   "cell_type": "markdown",
   "id": "c3cf8a95-995c-48fb-be89-27bdb6cbf0c6",
   "metadata": {},
   "source": [
    "# Reflect Tables into SQLAlchemy ORM\n",
    "---"
   ]
  },
  {
   "cell_type": "code",
   "execution_count": null,
   "id": "947438a8-a9e5-4615-afbd-5a1e3d7e8bc2",
   "metadata": {},
   "outputs": [],
   "source": []
  },
  {
   "cell_type": "code",
   "execution_count": null,
   "id": "edf8cedc-16d8-4592-a0f4-76551a179895",
   "metadata": {},
   "outputs": [],
   "source": []
  },
  {
   "cell_type": "markdown",
   "id": "ab9ab7c4-4195-4bf2-9d49-d4bde7212483",
   "metadata": {},
   "source": [
    "# Exploratory Precipitation Analysis\n",
    "---"
   ]
  },
  {
   "cell_type": "code",
   "execution_count": null,
   "id": "24c8b937-1d5c-4402-9a73-71dc1bed30f2",
   "metadata": {},
   "outputs": [],
   "source": []
  },
  {
   "cell_type": "code",
   "execution_count": null,
   "id": "f7a3cd9b-04fd-451d-8a7a-3d0e1e9e9be4",
   "metadata": {},
   "outputs": [],
   "source": []
  },
  {
   "cell_type": "markdown",
   "id": "6e36d004-5a4e-4723-b911-d7bd6fc57f2d",
   "metadata": {},
   "source": [
    "# Exploratory Station Analysis\n",
    "---"
   ]
  },
  {
   "cell_type": "code",
   "execution_count": null,
   "id": "1e3a98eb-a7a4-4d16-9533-1ea442613334",
   "metadata": {},
   "outputs": [],
   "source": []
  },
  {
   "cell_type": "code",
   "execution_count": null,
   "id": "16094365-43e7-46ee-836b-749d7d7dfc3f",
   "metadata": {},
   "outputs": [],
   "source": []
  },
  {
   "cell_type": "markdown",
   "id": "f77420ef-db5f-4ca4-9a25-0607f8ac0944",
   "metadata": {},
   "source": [
    "# Close Session\n",
    "---"
   ]
  },
  {
   "cell_type": "code",
   "execution_count": null,
   "id": "815d2854-1781-46b5-9302-e35fc994e9eb",
   "metadata": {},
   "outputs": [],
   "source": [
    "# Close Session\n",
    "session.close()"
   ]
  }
 ],
 "metadata": {
  "kernelspec": {
   "display_name": "Python 3 (ipykernel)",
   "language": "python",
   "name": "python3"
  },
  "language_info": {
   "codemirror_mode": {
    "name": "ipython",
    "version": 3
   },
   "file_extension": ".py",
   "mimetype": "text/x-python",
   "name": "python",
   "nbconvert_exporter": "python",
   "pygments_lexer": "ipython3",
   "version": "3.10.13"
  }
 },
 "nbformat": 4,
 "nbformat_minor": 5
}
